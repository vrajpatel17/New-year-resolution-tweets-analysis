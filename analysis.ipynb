{
 "cells": [
  {
   "cell_type": "code",
   "execution_count": 2,
   "metadata": {},
   "outputs": [],
   "source": [
    "import pandas as pd\n",
    "import numpy as np"
   ]
  },
  {
   "cell_type": "code",
   "execution_count": 5,
   "metadata": {},
   "outputs": [
    {
     "data": {
      "text/html": [
       "<div>\n",
       "<style scoped>\n",
       "    .dataframe tbody tr th:only-of-type {\n",
       "        vertical-align: middle;\n",
       "    }\n",
       "\n",
       "    .dataframe tbody tr th {\n",
       "        vertical-align: top;\n",
       "    }\n",
       "\n",
       "    .dataframe thead th {\n",
       "        text-align: right;\n",
       "    }\n",
       "</style>\n",
       "<table border=\"1\" class=\"dataframe\">\n",
       "  <thead>\n",
       "    <tr style=\"text-align: right;\">\n",
       "      <th></th>\n",
       "      <th>tweet_created</th>\n",
       "      <th>tweet_text</th>\n",
       "      <th>tweet_category</th>\n",
       "      <th>tweet_topics</th>\n",
       "      <th>tweet_location</th>\n",
       "      <th>tweet_state</th>\n",
       "      <th>tweet_region</th>\n",
       "      <th>user_timezone</th>\n",
       "      <th>user_gender</th>\n",
       "      <th>retweet_count</th>\n",
       "    </tr>\n",
       "  </thead>\n",
       "  <tbody>\n",
       "    <tr>\n",
       "      <th>0</th>\n",
       "      <td>21-12-2014 16:11</td>\n",
       "      <td>#NewYearsResolution to not put the parking lot...</td>\n",
       "      <td>Humor</td>\n",
       "      <td>Humor about Personal Growth and Interests Reso...</td>\n",
       "      <td>City of Angels, CA</td>\n",
       "      <td>CA</td>\n",
       "      <td>West</td>\n",
       "      <td>Pacific Time (US &amp; Canada)</td>\n",
       "      <td>male</td>\n",
       "      <td>NaN</td>\n",
       "    </tr>\n",
       "    <tr>\n",
       "      <th>1</th>\n",
       "      <td>21-12-2014 16:16</td>\n",
       "      <td>I got the hair. I just need to work on the bod...</td>\n",
       "      <td>Health &amp; Fitness</td>\n",
       "      <td>Improve my body</td>\n",
       "      <td>Arlington, TX</td>\n",
       "      <td>TX</td>\n",
       "      <td>South</td>\n",
       "      <td>Central Time (US &amp; Canada)</td>\n",
       "      <td>male</td>\n",
       "      <td>NaN</td>\n",
       "    </tr>\n",
       "    <tr>\n",
       "      <th>2</th>\n",
       "      <td>21-12-2014 16:30</td>\n",
       "      <td>Self improvement!.. Mentally, physically, and ...</td>\n",
       "      <td>Personal Growth</td>\n",
       "      <td>Improve my attitude</td>\n",
       "      <td>Las Vegas, NV</td>\n",
       "      <td>NV</td>\n",
       "      <td>West</td>\n",
       "      <td>Central Time (US &amp; Canada)</td>\n",
       "      <td>male</td>\n",
       "      <td>NaN</td>\n",
       "    </tr>\n",
       "    <tr>\n",
       "      <th>3</th>\n",
       "      <td>21-12-2014 17:51</td>\n",
       "      <td>I've decided to get pregnant in #2015 #NewYear...</td>\n",
       "      <td>Humor</td>\n",
       "      <td>Humor about Family/Friends/Relationships Resol...</td>\n",
       "      <td>Ft. Luderdale, Florida</td>\n",
       "      <td>FL</td>\n",
       "      <td>South</td>\n",
       "      <td>NaN</td>\n",
       "      <td>male</td>\n",
       "      <td>NaN</td>\n",
       "    </tr>\n",
       "    <tr>\n",
       "      <th>4</th>\n",
       "      <td>21-12-2014 18:09</td>\n",
       "      <td>All I want for Christmas is to be Carrie Under...</td>\n",
       "      <td>Personal Growth</td>\n",
       "      <td>Other</td>\n",
       "      <td>South Carolina</td>\n",
       "      <td>SC</td>\n",
       "      <td>South</td>\n",
       "      <td>Pacific Time (US &amp; Canada)</td>\n",
       "      <td>female</td>\n",
       "      <td>NaN</td>\n",
       "    </tr>\n",
       "  </tbody>\n",
       "</table>\n",
       "</div>"
      ],
      "text/plain": [
       "      tweet_created                                         tweet_text  \\\n",
       "0  21-12-2014 16:11  #NewYearsResolution to not put the parking lot...   \n",
       "1  21-12-2014 16:16  I got the hair. I just need to work on the bod...   \n",
       "2  21-12-2014 16:30  Self improvement!.. Mentally, physically, and ...   \n",
       "3  21-12-2014 17:51  I've decided to get pregnant in #2015 #NewYear...   \n",
       "4  21-12-2014 18:09  All I want for Christmas is to be Carrie Under...   \n",
       "\n",
       "     tweet_category                                       tweet_topics  \\\n",
       "0             Humor  Humor about Personal Growth and Interests Reso...   \n",
       "1  Health & Fitness                                    Improve my body   \n",
       "2   Personal Growth                                Improve my attitude   \n",
       "3             Humor  Humor about Family/Friends/Relationships Resol...   \n",
       "4   Personal Growth                                              Other   \n",
       "\n",
       "           tweet_location tweet_state tweet_region  \\\n",
       "0      City of Angels, CA          CA         West   \n",
       "1           Arlington, TX          TX        South   \n",
       "2           Las Vegas, NV          NV         West   \n",
       "3  Ft. Luderdale, Florida          FL        South   \n",
       "4          South Carolina          SC        South   \n",
       "\n",
       "                user_timezone user_gender  retweet_count  \n",
       "0  Pacific Time (US & Canada)        male            NaN  \n",
       "1  Central Time (US & Canada)        male            NaN  \n",
       "2  Central Time (US & Canada)        male            NaN  \n",
       "3                         NaN        male            NaN  \n",
       "4  Pacific Time (US & Canada)      female            NaN  "
      ]
     },
     "execution_count": 5,
     "metadata": {},
     "output_type": "execute_result"
    }
   ],
   "source": [
    "df = pd.read_csv(\"New_years_resolutions.csv\")\n",
    "df.head()"
   ]
  },
  {
   "cell_type": "code",
   "execution_count": 15,
   "metadata": {},
   "outputs": [
    {
     "data": {
      "text/plain": [
       "array(['CA', 'TX', 'NV', 'FL', 'SC', 'NY', 'WI', 'TN', 'MN', 'MS', 'WV',\n",
       "       'MI', 'LA', 'MA', 'GA', 'AK', 'OK', 'OH', 'DC', 'IA', 'HI', 'OR',\n",
       "       'AZ', 'PA', 'MO', 'CO', 'WA', 'IL', 'NM', 'NC', 'CT', 'NE', 'IN',\n",
       "       'VA', 'NJ', 'MD', 'ID', 'AL', 'RI', 'KS', 'UT', 'KY', 'ME', 'NH',\n",
       "       'SD', 'MT', 'AR', 'DE', 'VT', 'WY', 'ND'], dtype=object)"
      ]
     },
     "execution_count": 15,
     "metadata": {},
     "output_type": "execute_result"
    }
   ],
   "source": [
    "pd.unique(df['tweet_state'])"
   ]
  },
  {
   "cell_type": "code",
   "execution_count": 16,
   "metadata": {},
   "outputs": [
    {
     "data": {
      "text/plain": [
       "CA    701\n",
       "NY    509\n",
       "TX    376\n",
       "FL    248\n",
       "IL    189\n",
       "OH    187\n",
       "PA    157\n",
       "MI    152\n",
       "MA    148\n",
       "GA    131\n",
       "VA    118\n",
       "TN    108\n",
       "NC    108\n",
       "WA    105\n",
       "AZ     89\n",
       "NJ     88\n",
       "MN     87\n",
       "IN     79\n",
       "MD     77\n",
       "CO     72\n",
       "OR     71\n",
       "WI     70\n",
       "KY     68\n",
       "MO     66\n",
       "LA     65\n",
       "NV     55\n",
       "CT     52\n",
       "KS     51\n",
       "DC     50\n",
       "SC     46\n",
       "UT     42\n",
       "IA     41\n",
       "OK     38\n",
       "AL     34\n",
       "WV     25\n",
       "MS     23\n",
       "NE     21\n",
       "AR     18\n",
       "ME     18\n",
       "HI     18\n",
       "NM     18\n",
       "AK     16\n",
       "NH     14\n",
       "ID     14\n",
       "RI     14\n",
       "SD     13\n",
       "VT      9\n",
       "WY      9\n",
       "MT      6\n",
       "DE      6\n",
       "ND      3\n",
       "Name: tweet_state, dtype: int64"
      ]
     },
     "execution_count": 16,
     "metadata": {},
     "output_type": "execute_result"
    }
   ],
   "source": [
    "df['tweet_state'].value_counts()"
   ]
  },
  {
   "cell_type": "code",
   "execution_count": 13,
   "metadata": {},
   "outputs": [
    {
     "data": {
      "text/plain": [
       "array(['CA', 'TX', 'NV', 'FL', 'SC', 'NY', 'WI', 'TN', 'MN', 'MS', 'WV',\n",
       "       'MI', 'LA', 'MA', 'GA', 'AK', 'OK', 'OH', 'DC', 'IA', 'HI', 'OR',\n",
       "       'AZ', 'PA', 'MO', 'CO', 'WA', 'IL', 'NM', 'NC', 'CT', 'NE', 'IN',\n",
       "       'VA', 'NJ', 'MD', 'ID', 'AL', 'RI', 'KS', 'UT', 'KY', 'ME', 'NH',\n",
       "       'SD', 'MT', 'AR', 'DE', 'VT', 'WY', 'ND'], dtype=object)"
      ]
     },
     "execution_count": 13,
     "metadata": {},
     "output_type": "execute_result"
    }
   ],
   "source": [
    "df.tweet_state.unique()"
   ]
  },
  {
   "cell_type": "code",
   "execution_count": 22,
   "metadata": {},
   "outputs": [
    {
     "data": {
      "text/plain": [
       "(4723, 10)"
      ]
     },
     "execution_count": 22,
     "metadata": {},
     "output_type": "execute_result"
    }
   ],
   "source": [
    "df.shape"
   ]
  },
  {
   "cell_type": "code",
   "execution_count": 23,
   "metadata": {},
   "outputs": [
    {
     "data": {
      "text/plain": [
       "92.6078431372549"
      ]
     },
     "execution_count": 23,
     "metadata": {},
     "output_type": "execute_result"
    }
   ],
   "source": [
    "4723/51\n"
   ]
  }
 ],
 "metadata": {
  "kernelspec": {
   "display_name": "Python 3",
   "language": "python",
   "name": "python3"
  },
  "language_info": {
   "codemirror_mode": {
    "name": "ipython",
    "version": 3
   },
   "file_extension": ".py",
   "mimetype": "text/x-python",
   "name": "python",
   "nbconvert_exporter": "python",
   "pygments_lexer": "ipython3",
   "version": "3.8.3"
  }
 },
 "nbformat": 4,
 "nbformat_minor": 4
}
